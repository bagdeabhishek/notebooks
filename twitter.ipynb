{
 "cells": [
  {
   "cell_type": "code",
   "execution_count": 9,
   "metadata": {},
   "outputs": [],
   "source": [
    "import psycopg2\n",
    "\n",
    "def pg_get_conn(database=\"fakenews\", user=\"fakenews\", password=\"fnd\"):\n",
    "    \"\"\"Get Postgres connection for fakenews\n",
    "\n",
    "    Returns:\n",
    "        Connection object : returns Post gres connection object\n",
    "\n",
    "    Args:\n",
    "        database (str, optional): Name of database\n",
    "        user (str, optional): Name of User\n",
    "        password (str, optional): Password of user\n",
    "    \"\"\"\n",
    "    try:\n",
    "        conn = psycopg2.connect(database=database,\n",
    "                                user=user, password=password, host='localhost', port='5432')\n",
    "        return conn\n",
    "    except Exception as e:\n",
    "        print(str(e))\n",
    "        \n",
    "def get_next_level_handles(rt=True):\n",
    "    with pg_get_conn(database=\"abhishek\",user=\"abhishek\",password=\"vaishu\") as conn:\n",
    "        cur = conn.cursor()\n",
    "        if rt:\n",
    "            cur.execute(\"\"\"Select retweeted_status_user_handle from tweet_articles_tweepy\"\"\")\n",
    "        else:\n",
    "            cur.execute(\"\"\"Select * from tweet_articles_tweepy\"\"\")\n",
    "        ans = cur.fetchall()\n",
    "    print(ans)\n",
    "    lse = set(x[0].replace(\"{\",\"\").replace(\"}\",\"\") for x in ans) if not rt else set(x[0] for x in ans)\n",
    "    ans_handles=[]\n",
    "    if not rt:\n",
    "        for x in lse:\n",
    "            for y in x.split(\",\"):\n",
    "                if y != '':\n",
    "                    ans_handles.append(y)\n",
    "    else:\n",
    "        ans_handles = list(lse)\n",
    "    return(ans_handles)\n",
    "\n",
    "def write_next_handles(new_handles):\n",
    "    path_old_file = '/home/abhishek/Documents/TweetCrawlMultiThreaded/handles.txt'\n",
    "    old_handles = set()\n",
    "    with open(path_old_file) as o_handles:\n",
    "        for o_handle in o_handles:\n",
    "            if o_handle.startswith('@'):\n",
    "                o_handle = o_handle.replace('@','')\n",
    "            old_handles.add(o_handle)\n",
    "    new_handles = set(new_handles)\n",
    "    next_level_handles = new_handles.difference(old_handles)\n",
    "    with open(path_old_file+\".bk\", 'a') as f:\n",
    "        for item in old_handles:\n",
    "            f.write(\"%s\\n\" % item)\n",
    "    with open(path_old_file, 'w') as f:\n",
    "        for item in next_level_handles:\n",
    "            f.write(\"%s\\n\" % item)"
   ]
  },
  {
   "cell_type": "code",
   "execution_count": 10,
   "metadata": {},
   "outputs": [
    {
     "name": "stderr",
     "output_type": "stream",
     "text": [
      "IOPub data rate exceeded.\n",
      "The notebook server will temporarily stop sending output\n",
      "to the client in order to avoid crashing it.\n",
      "To change this limit, set the config variable\n",
      "`--NotebookApp.iopub_data_rate_limit`.\n",
      "\n",
      "Current values:\n",
      "NotebookApp.iopub_data_rate_limit=1000000.0 (bytes/sec)\n",
      "NotebookApp.rate_limit_window=3.0 (secs)\n",
      "\n"
     ]
    }
   ],
   "source": [
    "n_hand = get_next_level_handles(True)"
   ]
  },
  {
   "cell_type": "code",
   "execution_count": 13,
   "metadata": {},
   "outputs": [],
   "source": [
    "write_next_handles(n_hand)"
   ]
  },
  {
   "cell_type": "code",
   "execution_count": 75,
   "metadata": {},
   "outputs": [
    {
     "data": {
      "text/plain": [
       "47868"
      ]
     },
     "execution_count": 75,
     "metadata": {},
     "output_type": "execute_result"
    }
   ],
   "source": [
    "len(set(ans_handles))"
   ]
  },
  {
   "cell_type": "code",
   "execution_count": 77,
   "metadata": {},
   "outputs": [
    {
     "data": {
      "text/plain": [
       "6"
      ]
     },
     "execution_count": 77,
     "metadata": {},
     "output_type": "execute_result"
    }
   ],
   "source": []
  },
  {
   "cell_type": "code",
   "execution_count": null,
   "metadata": {},
   "outputs": [],
   "source": []
  }
 ],
 "metadata": {
  "kernelspec": {
   "display_name": "Python 3",
   "language": "python",
   "name": "python3"
  },
  "language_info": {
   "codemirror_mode": {
    "name": "ipython",
    "version": 3
   },
   "file_extension": ".py",
   "mimetype": "text/x-python",
   "name": "python",
   "nbconvert_exporter": "python",
   "pygments_lexer": "ipython3",
   "version": "3.6.9"
  }
 },
 "nbformat": 4,
 "nbformat_minor": 4
}
